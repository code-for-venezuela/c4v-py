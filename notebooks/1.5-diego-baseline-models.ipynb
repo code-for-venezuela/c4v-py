{
 "cells": [
  {
   "cell_type": "code",
   "execution_count": null,
   "metadata": {
    "ExecuteTime": {
     "end_time": "2020-07-27T22:20:05.249166Z",
     "start_time": "2020-07-27T22:20:04.304575Z"
    }
   },
   "outputs": [],
   "source": [
    "%matplotlib inline\n",
    "import re\n",
    "import matplotlib\n",
    "import numpy as np\n",
    "import matplotlib.pyplot as plt\n",
    "import pandas as pd\n",
    "from sklearn.model_selection import train_test_split\n",
    "from sklearn.feature_extraction.text import TfidfVectorizer, TfidfTransformer\n",
    "from sklearn.naive_bayes import MultinomialNB\n",
    "from sklearn.metrics import accuracy_score, recall_score, precision_score, f1_score, hamming_loss\n",
    "from sklearn.multiclass import OneVsRestClassifier\n",
    "from nltk.corpus import stopwords\n",
    "stop_words = set(stopwords.words('spanish'))\n",
    "from sklearn.svm import LinearSVC\n",
    "from sklearn.linear_model import LogisticRegression, SGDClassifier\n",
    "from sklearn.naive_bayes import GaussianNB\n",
    "from sklearn.pipeline import Pipeline\n",
    "import seaborn as sns\n",
    "from skmultilearn.problem_transform import BinaryRelevance\n",
    "from skmultilearn.problem_transform import LabelPowerset\n",
    "\n",
    "\n",
    "\n",
    "\n",
    "from skmultilearn.model_selection import iterative_train_test_split\n",
    "\n"
   ]
  },
  {
   "cell_type": "markdown",
   "metadata": {},
   "source": [
    "### Helper Functions\n",
    "\n",
    "- Model Performance_plot: This helper function displays how the accuracy, F1 Score and Hamming loss vary according to the prediction threshold. This function only works with sklearns machine learning algorithms that have the predict_proba method. "
   ]
  },
  {
   "cell_type": "code",
   "execution_count": null,
   "metadata": {
    "ExecuteTime": {
     "end_time": "2020-06-06T17:11:12.451407Z",
     "start_time": "2020-06-06T17:11:12.431999Z"
    }
   },
   "outputs": [],
   "source": [
    "def model_performance_plot():\n",
    "    '''\n",
    "    This helper function displays how the accuracy, \n",
    "    F1 Score and Hamming loss vary according to the prediction threshold. \n",
    "    This function only works with sklearns machine learning algorithms that have the predict_proba method. \n",
    "    __________________________________________________________________________\n",
    "    '''\n",
    "\n",
    "    th = []\n",
    "    f = []\n",
    "    ham = []\n",
    "    ac = []\n",
    "\n",
    "    for t in range (5,60): # threshold value\n",
    "        y_pred_new = (predictions_proba >= t/100).astype(int)\n",
    "        th.append(t)\n",
    "        ac.append(accuracy_score(y_test,y_pred_new))\n",
    "        f.append(f1_score(y_test,y_pred_new, average=\"micro\"))\n",
    "        ham.append(hamming_loss(y_test,y_pred_new))\n",
    "    plt.rcParams[\"figure.figsize\"] = (12,6)\n",
    "    with plt.style.context('ggplot'):\n",
    "        plt.plot(th, f)\n",
    "        plt.plot(th, ham)\n",
    "        plt.plot(th, ac)\n",
    "        plt.legend(['F1', 'Hamming loss', 'Accuracy'], loc='center left', fontsize = 14)\n",
    "        plt.ylabel(\"metrics\", fontsize = 14)\n",
    "        plt.xlabel(\"threshold\", fontsize = 14)\n",
    "        plt.title(\"Classfier Chain Model\", fontsize = 18)\n",
    "    plt.show()\n",
    "    \n",
    "    \n",
    "def group_labels_in_column(df):\n",
    "    '''\n",
    "    This function stacks all the target columns into a single column. \n",
    "    '''\n",
    "    text = []\n",
    "    category = []\n",
    "\n",
    "    for index, row in df.iterrows():\n",
    "        for value in row.iteritems():\n",
    "    #         print(value)\n",
    "            if value[1] == 1:\n",
    "                category.append(value[0])\n",
    "                text.append(row[0])\n",
    "            else:\n",
    "                next\n",
    "\n",
    "    tweets_new = pd.DataFrame({'text':text, 'category':category})\n",
    "\n",
    "\n",
    "    X = tweets_new.iloc[:,0]\n",
    "    y = tweets_new.iloc[:, 1]\n"
   ]
  },
  {
   "cell_type": "markdown",
   "metadata": {},
   "source": [
    "### Reading Data\n"
   ]
  },
  {
   "cell_type": "code",
   "execution_count": null,
   "metadata": {
    "ExecuteTime": {
     "end_time": "2020-07-27T22:20:08.965052Z",
     "start_time": "2020-07-27T22:20:08.750530Z"
    }
   },
   "outputs": [],
   "source": [
    "import sys\n",
    "sys.path.append(r'../src/c4v/data')\n",
    "\n",
    "from data_loader import BratDataLoader\n",
    "\n",
    "dataset = BratDataLoader(['../data/processed/brat/sampled_58_30'])\n",
    "\n",
    "# # Create X and y variables.  \n",
    "X = dataset.X\n",
    "y = dataset.y\n",
    "\n",
    "# # Traint test split\n",
    "X_train, X_test,y_train, y_test = train_test_split(X, y, test_size = 0.3, random_state = 21)\n",
    "\n"
   ]
  },
  {
   "cell_type": "markdown",
   "metadata": {},
   "source": [
    "## Models"
   ]
  },
  {
   "cell_type": "markdown",
   "metadata": {},
   "source": [
    "### Naive Bayes"
   ]
  },
  {
   "cell_type": "code",
   "execution_count": null,
   "metadata": {
    "ExecuteTime": {
     "end_time": "2020-07-27T22:20:11.517220Z",
     "start_time": "2020-07-27T22:20:11.310239Z"
    },
    "scrolled": true
   },
   "outputs": [],
   "source": [
    "NB_pipeline = Pipeline([\n",
    "                ('tfidf', TfidfVectorizer(stop_words=stop_words)),\n",
    "                ('tfidf_trans', TfidfTransformer()),\n",
    "                ('clf', BinaryRelevance(MultinomialNB(\n",
    "                    fit_prior=True, class_prior=None))),\n",
    "                ])\n",
    "\n",
    "NB_pipeline.fit(X_train, y_train)\n",
    "\n",
    "prediction = NB_pipeline.predict(X_test)\n",
    "predictions_proba = NB_pipeline.predict_proba(X_test)\n",
    "\n",
    "print(\n",
    "f'''\n",
    "    Accuracy: {accuracy_score(y_test, prediction)}\n",
    "    Recall: {recall_score(y_test, prediction, average = 'weighted')}\n",
    "    F1: {f1_score(y_test, prediction, average = 'weighted')}\n",
    "'''\n",
    ")\n",
    "\n",
    "# print(NB_pipeline.predict_proba(X_test)[0])\n",
    "\n",
    "    \n",
    "model_performance_plot()"
   ]
  },
  {
   "cell_type": "markdown",
   "metadata": {},
   "source": [
    "### Support vector classifier "
   ]
  },
  {
   "cell_type": "code",
   "execution_count": null,
   "metadata": {
    "ExecuteTime": {
     "end_time": "2020-07-27T22:20:12.662846Z",
     "start_time": "2020-07-27T22:20:12.529279Z"
    }
   },
   "outputs": [],
   "source": [
    "# categories = X_trai.category\n",
    "\n",
    "from sklearn.ensemble import RandomForestClassifier\n",
    "\n",
    "SVC_pipeline = Pipeline([\n",
    "                ('tfidf', TfidfVectorizer(stop_words=stop_words)),\n",
    "                ('tfidf_trans', TfidfTransformer()),\n",
    "                ('clf', LabelPowerset(LinearSVC(random_state = 21))),\n",
    "            ])\n",
    "\n",
    "SVC_pipeline.fit(X_train, y_train)\n",
    "prediction = SVC_pipeline.predict(X_test)\n",
    "\n",
    "\n",
    "print(\n",
    "f'''\n",
    "    Accuracy: {accuracy_score(y_test, prediction)}\n",
    "    Recall: {recall_score(y_test, prediction, average = 'weighted')}\n",
    "    F1: {f1_score(y_test, prediction, average = 'weighted')}\n",
    "'''\n",
    ")\n",
    "\n"
   ]
  },
  {
   "cell_type": "markdown",
   "metadata": {},
   "source": [
    "### Logistic Regression"
   ]
  },
  {
   "cell_type": "code",
   "execution_count": null,
   "metadata": {
    "ExecuteTime": {
     "end_time": "2020-07-27T22:20:13.317736Z",
     "start_time": "2020-07-27T22:20:13.207658Z"
    },
    "scrolled": true
   },
   "outputs": [],
   "source": [
    "LogReg_pipeline = Pipeline([\n",
    "                ('tfidf', TfidfVectorizer(stop_words=stop_words)),\n",
    "                ('tfidf_trans', TfidfTransformer()),\n",
    "                ('clf', LabelPowerset(LogisticRegression(solver='sag', random_state = 21))),\n",
    "            ])\n",
    "\n",
    "LogReg_pipeline.fit(X_train, y_train)\n",
    "prediction = LogReg_pipeline.predict(X_test)\n",
    "predictions_proba = LogReg_pipeline.predict_proba(X_test)\n",
    "\n",
    "print(\n",
    "f'''\n",
    "    Accuracy: {accuracy_score(y_test, prediction)}\n",
    "    Recall: {recall_score(y_test, prediction, average = 'weighted')}\n",
    "    F1: {f1_score(y_test, prediction, average = 'weighted')}\n",
    "'''\n",
    ")\n",
    "\n",
    "model_performance_plot()"
   ]
  },
  {
   "cell_type": "markdown",
   "metadata": {},
   "source": [
    "### Stochastic Gradient Descent Classifier"
   ]
  },
  {
   "cell_type": "code",
   "execution_count": null,
   "metadata": {
    "ExecuteTime": {
     "end_time": "2020-07-27T22:20:13.896806Z",
     "start_time": "2020-07-27T22:20:13.818860Z"
    }
   },
   "outputs": [],
   "source": [
    "SGDClassifier = Pipeline([\n",
    "                ('tfidf', TfidfVectorizer(stop_words=stop_words)),\n",
    "                ('tfidf_trans', TfidfTransformer()),\n",
    "                ('clf', LabelPowerset(SGDClassifier(random_state = 21, loss=\"log\", penalty=\"elasticnet\"))),\n",
    "            ])\n",
    "\n",
    "SGDClassifier.fit(X_train, y_train)\n",
    "prediction = SGDClassifier.predict(X_test)\n",
    "predictions_proba = SGDClassifier.predict_proba(X_test)\n",
    "\n",
    "print(\n",
    "f'''\n",
    "    Accuracy: {accuracy_score(y_test, prediction)}\n",
    "    Recall: {recall_score(y_test, prediction, average = 'weighted')}\n",
    "    F1: {f1_score(y_test, prediction, average = 'weighted')}\n",
    "'''\n",
    ")\n",
    "\n",
    "model_performance_plot()"
   ]
  }
 ],
 "metadata": {
  "kernelspec": {
   "display_name": "Python 3",
   "language": "python",
   "name": "python3"
  },
  "language_info": {
   "codemirror_mode": {
    "name": "ipython",
    "version": 3
   },
   "file_extension": ".py",
   "mimetype": "text/x-python",
   "name": "python",
   "nbconvert_exporter": "python",
   "pygments_lexer": "ipython3",
   "version": "3.7.6"
  },
  "toc": {
   "base_numbering": 1,
   "nav_menu": {},
   "number_sections": true,
   "sideBar": true,
   "skip_h1_title": false,
   "title_cell": "Table of Contents",
   "title_sidebar": "Contents",
   "toc_cell": false,
   "toc_position": {},
   "toc_section_display": true,
   "toc_window_display": true
  }
 },
 "nbformat": 4,
 "nbformat_minor": 4
}
